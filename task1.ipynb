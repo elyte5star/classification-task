{
 "cells": [
  {
   "cell_type": "code",
   "execution_count": null,
   "id": "ad998a30-570f-485b-877e-b0b2097f099e",
   "metadata": {},
   "outputs": [],
   "source": [
    "import sys,os\n",
    "import pandas as pd\n",
    "pd.options.mode.chained_assignment = None\n",
    "import matplotlib.pyplot as plt\n",
    "from matplotlib.patches import ConnectionPatch\n",
    "import seaborn as sns\n",
    "import numpy as np\n",
    "import sklearn\n",
    "import string\n",
    "import re\n",
    "import nltk\n",
    "import tensorflow as tf\n",
    "from collections import Counter\n",
    "from tensorflow import keras\n",
    "from sklearn.feature_extraction.text import TfidfVectorizer\n",
    "from keras.utils import pad_sequences,to_categorical\n",
    "from sklearn.feature_selection import SelectKBest,chi2\n",
    "from sklearn.utils.class_weight import compute_class_weight\n",
    "from sklearn.metrics import accuracy_score,f1_score,roc_auc_score,confusion_matrix,precision_score,recall_score,classification_report,roc_curve\n",
    "from datetime import datetime\n",
    "nltk.download('punkt')\n",
    "nltk.download('stopwords')\n",
    "from nltk.corpus import stopwords\n",
    "from nltk.tokenize import word_tokenize\n",
    "from nltk.stem import PorterStemmer\n",
    "from nltk.tokenize import TweetTokenizer\n",
    "from google.colab import files,drive\n",
    "from wordcloud import WordCloud, STOPWORDS\n",
    "from sklearn.svm import LinearSVC\n",
    "from sklearn.model_selection import GridSearchCV\n",
    "import warnings\n",
    "warnings.filterwarnings(action=\"ignore\", message=\"^internal gelsd\")\n",
    "print(\"Running Panda Version:\"+pd.__version__)\n",
    "print(\"Running TensorFlow Version:\"+ tf.__version__)\n",
    "#print(\"Running Keras API Version:\"+ keras.__version__)\n",
    "print(\"Running Python {0}.{1}\".format(sys.version_info[:2][0],sys.version_info[:2][1]))"
   ]
  }
 ],
 "metadata": {
  "kernelspec": {
   "display_name": "Python 3 (ipykernel)",
   "language": "python",
   "name": "python3"
  },
  "language_info": {
   "codemirror_mode": {
    "name": "ipython",
    "version": 3
   },
   "file_extension": ".py",
   "mimetype": "text/x-python",
   "name": "python",
   "nbconvert_exporter": "python",
   "pygments_lexer": "ipython3",
   "version": "3.12.3"
  }
 },
 "nbformat": 4,
 "nbformat_minor": 5
}
